{
  "nbformat": 4,
  "nbformat_minor": 0,
  "metadata": {
    "colab": {
      "provenance": []
    },
    "kernelspec": {
      "name": "python3",
      "display_name": "Python 3"
    },
    "language_info": {
      "name": "python"
    }
  },
  "cells": [
    {
      "cell_type": "code",
      "execution_count": null,
      "metadata": {
        "colab": {
          "base_uri": "https://localhost:8080/"
        },
        "id": "lyV7_Aqyu-Cq",
        "outputId": "bfc94a71-b3dd-4098-cd34-4238ad7271ff"
      },
      "outputs": [
        {
          "output_type": "stream",
          "name": "stdout",
          "text": [
            "Collecting PyPDF2\n",
            "  Downloading pypdf2-3.0.1-py3-none-any.whl.metadata (6.8 kB)\n",
            "Collecting reportlab\n",
            "  Downloading reportlab-4.4.2-py3-none-any.whl.metadata (1.8 kB)\n",
            "Collecting pdf2image\n",
            "  Downloading pdf2image-1.17.0-py3-none-any.whl.metadata (6.2 kB)\n",
            "Collecting img2pdf\n",
            "  Downloading img2pdf-0.6.1.tar.gz (106 kB)\n",
            "\u001b[2K     \u001b[90m━━━━━━━━━━━━━━━━━━━━━━━━━━━━━━━━━━━━━━━\u001b[0m \u001b[32m106.5/106.5 kB\u001b[0m \u001b[31m2.6 MB/s\u001b[0m eta \u001b[36m0:00:00\u001b[0m\n",
            "\u001b[?25h  Preparing metadata (setup.py) ... \u001b[?25l\u001b[?25hdone\n",
            "Requirement already satisfied: pillow in /usr/local/lib/python3.11/dist-packages (11.2.1)\n",
            "Requirement already satisfied: charset-normalizer in /usr/local/lib/python3.11/dist-packages (from reportlab) (3.4.2)\n",
            "Collecting pikepdf (from img2pdf)\n",
            "  Downloading pikepdf-9.9.0-cp311-cp311-manylinux_2_27_x86_64.manylinux_2_28_x86_64.whl.metadata (8.1 kB)\n",
            "Collecting Deprecated (from pikepdf->img2pdf)\n",
            "  Downloading Deprecated-1.2.18-py2.py3-none-any.whl.metadata (5.7 kB)\n",
            "Requirement already satisfied: lxml>=4.8 in /usr/local/lib/python3.11/dist-packages (from pikepdf->img2pdf) (5.4.0)\n",
            "Requirement already satisfied: packaging in /usr/local/lib/python3.11/dist-packages (from pikepdf->img2pdf) (24.2)\n",
            "Requirement already satisfied: wrapt<2,>=1.10 in /usr/local/lib/python3.11/dist-packages (from Deprecated->pikepdf->img2pdf) (1.17.2)\n",
            "Downloading pypdf2-3.0.1-py3-none-any.whl (232 kB)\n",
            "\u001b[2K   \u001b[90m━━━━━━━━━━━━━━━━━━━━━━━━━━━━━━━━━━━━━━━━\u001b[0m \u001b[32m232.6/232.6 kB\u001b[0m \u001b[31m9.3 MB/s\u001b[0m eta \u001b[36m0:00:00\u001b[0m\n",
            "\u001b[?25hDownloading reportlab-4.4.2-py3-none-any.whl (2.0 MB)\n",
            "\u001b[2K   \u001b[90m━━━━━━━━━━━━━━━━━━━━━━━━━━━━━━━━━━━━━━━━\u001b[0m \u001b[32m2.0/2.0 MB\u001b[0m \u001b[31m46.3 MB/s\u001b[0m eta \u001b[36m0:00:00\u001b[0m\n",
            "\u001b[?25hDownloading pdf2image-1.17.0-py3-none-any.whl (11 kB)\n",
            "Downloading pikepdf-9.9.0-cp311-cp311-manylinux_2_27_x86_64.manylinux_2_28_x86_64.whl (2.5 MB)\n",
            "\u001b[2K   \u001b[90m━━━━━━━━━━━━━━━━━━━━━━━━━━━━━━━━━━━━━━━━\u001b[0m \u001b[32m2.5/2.5 MB\u001b[0m \u001b[31m83.1 MB/s\u001b[0m eta \u001b[36m0:00:00\u001b[0m\n",
            "\u001b[?25hDownloading Deprecated-1.2.18-py2.py3-none-any.whl (10.0 kB)\n",
            "Building wheels for collected packages: img2pdf\n",
            "  Building wheel for img2pdf (setup.py) ... \u001b[?25l\u001b[?25hdone\n",
            "  Created wheel for img2pdf: filename=img2pdf-0.6.1-py3-none-any.whl size=51001 sha256=e83af91b9ba875f0e668bce0f0a1df04a582e77df8ec5547e4ef848c865bde7e\n",
            "  Stored in directory: /root/.cache/pip/wheels/21/0a/64/6a8143672bcea0d35b8cf705ba12b11bb191367cfde88d4f35\n",
            "Successfully built img2pdf\n",
            "Installing collected packages: reportlab, PyPDF2, pdf2image, Deprecated, pikepdf, img2pdf\n",
            "Successfully installed Deprecated-1.2.18 PyPDF2-3.0.1 img2pdf-0.6.1 pdf2image-1.17.0 pikepdf-9.9.0 reportlab-4.4.2\n"
          ]
        }
      ],
      "source": [
        "! pip install PyPDF2 reportlab pdf2image img2pdf pillow"
      ]
    },
    {
      "cell_type": "code",
      "source": [
        "!apt update\n",
        "!apt install -y poppler-utils"
      ],
      "metadata": {
        "colab": {
          "base_uri": "https://localhost:8080/"
        },
        "id": "OX7rPd3jw2x-",
        "outputId": "1eab42e7-7667-4c88-a2b7-db6f57dce5fc"
      },
      "execution_count": null,
      "outputs": [
        {
          "output_type": "stream",
          "name": "stdout",
          "text": [
            "\u001b[33m\r0% [Working]\u001b[0m\r            \rGet:1 https://cloud.r-project.org/bin/linux/ubuntu jammy-cran40/ InRelease [3,632 B]\n",
            "\r            \rGet:2 https://developer.download.nvidia.com/compute/cuda/repos/ubuntu2204/x86_64  InRelease [1,581 B]\n",
            "Get:3 https://developer.download.nvidia.com/compute/cuda/repos/ubuntu2204/x86_64  Packages [1,804 kB]\n",
            "Hit:4 http://archive.ubuntu.com/ubuntu jammy InRelease\n",
            "Get:5 http://security.ubuntu.com/ubuntu jammy-security InRelease [129 kB]\n",
            "Get:6 http://archive.ubuntu.com/ubuntu jammy-updates InRelease [128 kB]\n",
            "Get:7 https://r2u.stat.illinois.edu/ubuntu jammy InRelease [6,555 B]\n",
            "Hit:8 https://ppa.launchpadcontent.net/deadsnakes/ppa/ubuntu jammy InRelease\n",
            "Get:9 https://r2u.stat.illinois.edu/ubuntu jammy/main amd64 Packages [2,752 kB]\n",
            "Get:10 https://ppa.launchpadcontent.net/graphics-drivers/ppa/ubuntu jammy InRelease [24.3 kB]\n",
            "Get:11 http://security.ubuntu.com/ubuntu jammy-security/main amd64 Packages [3,092 kB]\n",
            "Get:12 http://archive.ubuntu.com/ubuntu jammy-backports InRelease [127 kB]\n",
            "Hit:13 https://ppa.launchpadcontent.net/ubuntugis/ppa/ubuntu jammy InRelease\n",
            "Get:14 http://archive.ubuntu.com/ubuntu jammy-updates/universe amd64 Packages [1,566 kB]\n",
            "Get:15 https://ppa.launchpadcontent.net/graphics-drivers/ppa/ubuntu jammy/main amd64 Packages [51.0 kB]\n",
            "Get:16 http://security.ubuntu.com/ubuntu jammy-security/multiverse amd64 Packages [48.5 kB]\n",
            "Get:17 http://security.ubuntu.com/ubuntu jammy-security/restricted amd64 Packages [4,763 kB]\n",
            "Get:18 http://archive.ubuntu.com/ubuntu jammy-updates/multiverse amd64 Packages [56.4 kB]\n",
            "Get:19 http://archive.ubuntu.com/ubuntu jammy-updates/main amd64 Packages [3,404 kB]\n",
            "Get:20 https://r2u.stat.illinois.edu/ubuntu jammy/main all Packages [9,080 kB]\n",
            "Get:21 http://security.ubuntu.com/ubuntu jammy-security/universe amd64 Packages [1,262 kB]\n",
            "Get:22 http://archive.ubuntu.com/ubuntu jammy-updates/restricted amd64 Packages [4,917 kB]\n",
            "Fetched 33.2 MB in 4s (9,197 kB/s)\n",
            "Reading package lists... Done\n",
            "Building dependency tree... Done\n",
            "Reading state information... Done\n",
            "38 packages can be upgraded. Run 'apt list --upgradable' to see them.\n",
            "\u001b[1;33mW: \u001b[0mSkipping acquire of configured file 'main/source/Sources' as repository 'https://r2u.stat.illinois.edu/ubuntu jammy InRelease' does not seem to provide it (sources.list entry misspelt?)\u001b[0m\n",
            "Reading package lists... Done\n",
            "Building dependency tree... Done\n",
            "Reading state information... Done\n",
            "The following NEW packages will be installed:\n",
            "  poppler-utils\n",
            "0 upgraded, 1 newly installed, 0 to remove and 38 not upgraded.\n",
            "Need to get 186 kB of archives.\n",
            "After this operation, 697 kB of additional disk space will be used.\n",
            "Get:1 http://archive.ubuntu.com/ubuntu jammy-updates/main amd64 poppler-utils amd64 22.02.0-2ubuntu0.8 [186 kB]\n",
            "Fetched 186 kB in 1s (144 kB/s)\n",
            "Selecting previously unselected package poppler-utils.\n",
            "(Reading database ... 126308 files and directories currently installed.)\n",
            "Preparing to unpack .../poppler-utils_22.02.0-2ubuntu0.8_amd64.deb ...\n",
            "Unpacking poppler-utils (22.02.0-2ubuntu0.8) ...\n",
            "Setting up poppler-utils (22.02.0-2ubuntu0.8) ...\n",
            "Processing triggers for man-db (2.10.2-1) ...\n"
          ]
        }
      ]
    },
    {
      "cell_type": "code",
      "source": [
        "import io\n",
        "import os\n",
        "from reportlab.pdfgen import canvas\n",
        "from reportlab.lib.pagesizes import letter\n",
        "from reportlab.lib.colors import Color\n",
        "from PyPDF2 import PdfReader, PdfWriter\n",
        "from pdf2image import convert_from_path\n",
        "from PIL import Image"
      ],
      "metadata": {
        "id": "Tw_T7EPOwCD0"
      },
      "execution_count": null,
      "outputs": []
    },
    {
      "cell_type": "code",
      "source": [
        "# Generate multiple repeating, diagonal French watermarked PDFs (translucent + line feeds + no overlap)\n",
        "def create_watermark(text, output_path, page_size=letter):\n",
        "    packet = io.BytesIO()\n",
        "    can = canvas.Canvas(packet, pagesize=page_size)\n",
        "\n",
        "    # Translucent Gray\n",
        "    transparent_gray = Color(0.5, 0.5, 0.5, alpha=0.5)\n",
        "    can.setFillColor(transparent_gray)\n",
        "    can.setFont(\"Helvetica-Bold\", 25)  # The font size can be made larger to emphasize the watermark\n",
        "\n",
        "    can.saveState()\n",
        "\n",
        "    # coordinate system of rotation\n",
        "    can.translate(page_size[0] / 2, page_size[1] / 2)\n",
        "    can.rotate(45)\n",
        "\n",
        "    # Calculate watermark text width\n",
        "    text_width = can.stringWidth(text, \"Helvetica-Bold\", 30)\n",
        "\n",
        "    # Define horizontal and vertical step lengths (intervals)\n",
        "    x_start = -2 * page_size[0]  # Guaranteed watermark coverage on all pages\n",
        "    x_end = 2 * page_size[0]\n",
        "    y_start = -2 * page_size[1]\n",
        "    y_end = 2 * page_size[1]\n",
        "\n",
        "    x_step = text_width + 150  # Horizontal spacing to ensure that text does not overlap\n",
        "    y_step = 200  # Vertical spacing, on demand\n",
        "\n",
        "    # Cyclic tiling watermark\n",
        "    for x in range(int(x_start), int(x_end), int(x_step)):\n",
        "        for y in range(int(y_start), int(y_end), int(y_step)):\n",
        "            can.drawString(x, y, text)\n",
        "\n",
        "    can.restoreState()\n",
        "    can.save()\n",
        "    packet.seek(0)\n",
        "\n",
        "    with open(output_path, 'wb') as f:\n",
        "        f.write(packet.read())\n",
        "\n",
        "# Overlay watermark on PDF\n",
        "def add_watermark(input_pdf, output_pdf, watermark_pdf):\n",
        "    reader = PdfReader(input_pdf)\n",
        "    writer = PdfWriter()\n",
        "    watermark = PdfReader(watermark_pdf).pages[0]\n",
        "\n",
        "    for page in reader.pages:\n",
        "        page.merge_page(watermark)\n",
        "        writer.add_page(page)\n",
        "\n",
        "    with open(output_pdf, 'wb') as f:\n",
        "        writer.write(f)\n",
        "\n",
        "# Turn the picture and then generate image-based PDF (with Pillow, does not rely on img2pdf)\n",
        "def pdf_to_image_pdf(input_pdf, output_pdf, dpi=200):\n",
        "    images = convert_from_path(input_pdf, dpi=dpi)\n",
        "\n",
        "    rgb_images = []\n",
        "    for img in images:\n",
        "        if img.mode != 'RGB':\n",
        "            img = img.convert('RGB')\n",
        "        rgb_images.append(img)\n",
        "\n",
        "    rgb_images[0].save(output_pdf, save_all=True, append_images=rgb_images[1:])\n",
        "\n",
        "# -------------------\n",
        "# The following is a sample call code, the path into your own PDF file path\n",
        "original_pdf = \"/content/2025-05-file.pdf\"\n",
        "watermark_pdf = \"/content/watermark.pdf\"\n",
        "watermarked_pdf = \"/content/watermarked.pdf\"\n",
        "final_image_pdf = \"/content/Final_watermarked_version.pdf\"\n",
        "\n",
        "# 1. 生成带换行透明水印PDF\n",
        "create_watermark(\"Ce document est fourni uniquement pour la location\", watermark_pdf)\n",
        "\n",
        "# 2. 叠加水印到原PDF\n",
        "add_watermark(original_pdf, watermarked_pdf, watermark_pdf)\n",
        "\n",
        "# 3. 转成图片型PDF，彻底防篡改\n",
        "pdf_to_image_pdf(watermarked_pdf, final_image_pdf)\n",
        "\n",
        "print(\"✅ Image type anti-tamper PDF has been generated, path: \", final_image_pdf)"
      ],
      "metadata": {
        "colab": {
          "base_uri": "https://localhost:8080/"
        },
        "id": "LP5CEHGFv9sK",
        "outputId": "cdac26c5-a973-4fb4-86e7-c5089e83f766"
      },
      "execution_count": null,
      "outputs": [
        {
          "output_type": "stream",
          "name": "stdout",
          "text": [
            "✅ 图片型防篡改PDF已生成，路径： /content/最终加水印版本.pdf\n"
          ]
        }
      ]
    }
  ]
}